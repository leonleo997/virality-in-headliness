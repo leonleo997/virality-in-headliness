{
 "cells": [
  {
   "cell_type": "markdown",
   "metadata": {},
   "source": [
    "## Import libraries"
   ]
  },
  {
   "cell_type": "code",
   "execution_count": 1,
   "metadata": {},
   "outputs": [],
   "source": [
    "import pandas as pd"
   ]
  },
  {
   "cell_type": "markdown",
   "metadata": {},
   "source": [
    "## Read dataset"
   ]
  },
  {
   "cell_type": "code",
   "execution_count": 2,
   "metadata": {},
   "outputs": [
    {
     "name": "stdout",
     "output_type": "stream",
     "text": [
      "Unnamed: 0                int64\n",
      "created_at               object\n",
      "updated_at               object\n",
      "clickability_test_id     object\n",
      "excerpt                  object\n",
      "headline                 object\n",
      "lede                     object\n",
      "slug                     object\n",
      "eyecatcher_id            object\n",
      "impressions               int64\n",
      "clicks                    int64\n",
      "significance            float64\n",
      "first_place                bool\n",
      "winner                     bool\n",
      "share_text               object\n",
      "square                   object\n",
      "test_week                 int64\n",
      "dtype: object\n"
     ]
    },
    {
     "data": {
      "text/html": [
       "<div>\n",
       "<style scoped>\n",
       "    .dataframe tbody tr th:only-of-type {\n",
       "        vertical-align: middle;\n",
       "    }\n",
       "\n",
       "    .dataframe tbody tr th {\n",
       "        vertical-align: top;\n",
       "    }\n",
       "\n",
       "    .dataframe thead th {\n",
       "        text-align: right;\n",
       "    }\n",
       "</style>\n",
       "<table border=\"1\" class=\"dataframe\">\n",
       "  <thead>\n",
       "    <tr style=\"text-align: right;\">\n",
       "      <th></th>\n",
       "      <th>Unnamed: 0</th>\n",
       "      <th>created_at</th>\n",
       "      <th>updated_at</th>\n",
       "      <th>clickability_test_id</th>\n",
       "      <th>excerpt</th>\n",
       "      <th>headline</th>\n",
       "      <th>lede</th>\n",
       "      <th>slug</th>\n",
       "      <th>eyecatcher_id</th>\n",
       "      <th>impressions</th>\n",
       "      <th>clicks</th>\n",
       "      <th>significance</th>\n",
       "      <th>first_place</th>\n",
       "      <th>winner</th>\n",
       "      <th>share_text</th>\n",
       "      <th>square</th>\n",
       "      <th>test_week</th>\n",
       "    </tr>\n",
       "  </thead>\n",
       "  <tbody>\n",
       "    <tr>\n",
       "      <th>0</th>\n",
       "      <td>0</td>\n",
       "      <td>2014-11-20 06:43:16.005</td>\n",
       "      <td>2016-04-02 16:33:38.062</td>\n",
       "      <td>546d88fb84ad38b2ce000024</td>\n",
       "      <td>Things that matter. Pass 'em on.</td>\n",
       "      <td>They're Being Called 'Walmart's Worst Nightmar...</td>\n",
       "      <td>&lt;p&gt;When I saw *why* people are calling them \"W...</td>\n",
       "      <td>theyre-being-called-walmarts-worst-nightmare-a...</td>\n",
       "      <td>546d6fa19ad54eec8d00002d</td>\n",
       "      <td>3052</td>\n",
       "      <td>150</td>\n",
       "      <td>100.0</td>\n",
       "      <td>True</td>\n",
       "      <td>True</td>\n",
       "      <td>Anyone who's ever felt guilty about shopping a...</td>\n",
       "      <td>NaN</td>\n",
       "      <td>201446</td>\n",
       "    </tr>\n",
       "    <tr>\n",
       "      <th>1</th>\n",
       "      <td>1</td>\n",
       "      <td>2014-11-20 06:43:44.646</td>\n",
       "      <td>2016-04-02 16:25:54.021</td>\n",
       "      <td>546d88fb84ad38b2ce000024</td>\n",
       "      <td>Things that matter. Pass 'em on.</td>\n",
       "      <td>They're Being Called 'Walmart's Worst Nightmar...</td>\n",
       "      <td>&lt;p&gt;When I saw *why* people are calling them \"W...</td>\n",
       "      <td>theyre-being-called-walmarts-worst-nightmare-a...</td>\n",
       "      <td>546d6fa19ad54eec8d00002d</td>\n",
       "      <td>3033</td>\n",
       "      <td>122</td>\n",
       "      <td>14.0</td>\n",
       "      <td>False</td>\n",
       "      <td>False</td>\n",
       "      <td>Walmart is getting schooled by another retaile...</td>\n",
       "      <td>NaN</td>\n",
       "      <td>201446</td>\n",
       "    </tr>\n",
       "    <tr>\n",
       "      <th>2</th>\n",
       "      <td>2</td>\n",
       "      <td>2014-11-20 06:44:59.804</td>\n",
       "      <td>2016-04-02 16:25:54.024</td>\n",
       "      <td>546d88fb84ad38b2ce000024</td>\n",
       "      <td>Things that matter. Pass 'em on.</td>\n",
       "      <td>They're Being Called 'Walmart's Worst Nightmar...</td>\n",
       "      <td>&lt;p&gt;When I saw *why* people are calling them \"W...</td>\n",
       "      <td>theyre-being-called-walmarts-worst-nightmare-a...</td>\n",
       "      <td>546d6fa19ad54eec8d00002d</td>\n",
       "      <td>3092</td>\n",
       "      <td>110</td>\n",
       "      <td>1.8</td>\n",
       "      <td>False</td>\n",
       "      <td>False</td>\n",
       "      <td>Walmart may not be crapping their pants over t...</td>\n",
       "      <td>NaN</td>\n",
       "      <td>201446</td>\n",
       "    </tr>\n",
       "    <tr>\n",
       "      <th>3</th>\n",
       "      <td>3</td>\n",
       "      <td>2014-11-20 06:54:36.335</td>\n",
       "      <td>2016-04-02 16:25:54.027</td>\n",
       "      <td>546d902c26714c6c44000039</td>\n",
       "      <td>Things that matter. Pass 'em on.</td>\n",
       "      <td>This Is What Sexism Against Men Sounds Like</td>\n",
       "      <td>&lt;p&gt;DISCLOSURE: I'm a dude. I have cried on mul...</td>\n",
       "      <td>this-is-what-sexism-against-men-sounds-like-am...</td>\n",
       "      <td>546bc55335992b86c8000043</td>\n",
       "      <td>3526</td>\n",
       "      <td>90</td>\n",
       "      <td>4.1</td>\n",
       "      <td>False</td>\n",
       "      <td>False</td>\n",
       "      <td>If you ever wondered, \"but what about the men?...</td>\n",
       "      <td>NaN</td>\n",
       "      <td>201446</td>\n",
       "    </tr>\n",
       "    <tr>\n",
       "      <th>4</th>\n",
       "      <td>4</td>\n",
       "      <td>2014-11-20 06:54:57.878</td>\n",
       "      <td>2016-04-02 16:31:45.671</td>\n",
       "      <td>546d902c26714c6c44000039</td>\n",
       "      <td>Things that matter. Pass 'em on.</td>\n",
       "      <td>This Is What Sexism Against Men Sounds Like</td>\n",
       "      <td>&lt;p&gt;DISCLOSURE: I'm a dude. I have cried on mul...</td>\n",
       "      <td>this-is-what-sexism-against-men-sounds-like-am...</td>\n",
       "      <td>546d900426714cd2dd00002e</td>\n",
       "      <td>3506</td>\n",
       "      <td>120</td>\n",
       "      <td>100.0</td>\n",
       "      <td>True</td>\n",
       "      <td>False</td>\n",
       "      <td>If you ever wondered, \"but what about the men?...</td>\n",
       "      <td>NaN</td>\n",
       "      <td>201446</td>\n",
       "    </tr>\n",
       "  </tbody>\n",
       "</table>\n",
       "</div>"
      ],
      "text/plain": [
       "   Unnamed: 0               created_at               updated_at  \\\n",
       "0           0  2014-11-20 06:43:16.005  2016-04-02 16:33:38.062   \n",
       "1           1  2014-11-20 06:43:44.646  2016-04-02 16:25:54.021   \n",
       "2           2  2014-11-20 06:44:59.804  2016-04-02 16:25:54.024   \n",
       "3           3  2014-11-20 06:54:36.335  2016-04-02 16:25:54.027   \n",
       "4           4  2014-11-20 06:54:57.878  2016-04-02 16:31:45.671   \n",
       "\n",
       "       clickability_test_id                           excerpt  \\\n",
       "0  546d88fb84ad38b2ce000024  Things that matter. Pass 'em on.   \n",
       "1  546d88fb84ad38b2ce000024  Things that matter. Pass 'em on.   \n",
       "2  546d88fb84ad38b2ce000024  Things that matter. Pass 'em on.   \n",
       "3  546d902c26714c6c44000039  Things that matter. Pass 'em on.   \n",
       "4  546d902c26714c6c44000039  Things that matter. Pass 'em on.   \n",
       "\n",
       "                                            headline  \\\n",
       "0  They're Being Called 'Walmart's Worst Nightmar...   \n",
       "1  They're Being Called 'Walmart's Worst Nightmar...   \n",
       "2  They're Being Called 'Walmart's Worst Nightmar...   \n",
       "3        This Is What Sexism Against Men Sounds Like   \n",
       "4        This Is What Sexism Against Men Sounds Like   \n",
       "\n",
       "                                                lede  \\\n",
       "0  <p>When I saw *why* people are calling them \"W...   \n",
       "1  <p>When I saw *why* people are calling them \"W...   \n",
       "2  <p>When I saw *why* people are calling them \"W...   \n",
       "3  <p>DISCLOSURE: I'm a dude. I have cried on mul...   \n",
       "4  <p>DISCLOSURE: I'm a dude. I have cried on mul...   \n",
       "\n",
       "                                                slug  \\\n",
       "0  theyre-being-called-walmarts-worst-nightmare-a...   \n",
       "1  theyre-being-called-walmarts-worst-nightmare-a...   \n",
       "2  theyre-being-called-walmarts-worst-nightmare-a...   \n",
       "3  this-is-what-sexism-against-men-sounds-like-am...   \n",
       "4  this-is-what-sexism-against-men-sounds-like-am...   \n",
       "\n",
       "              eyecatcher_id  impressions  clicks  significance  first_place  \\\n",
       "0  546d6fa19ad54eec8d00002d         3052     150         100.0         True   \n",
       "1  546d6fa19ad54eec8d00002d         3033     122          14.0        False   \n",
       "2  546d6fa19ad54eec8d00002d         3092     110           1.8        False   \n",
       "3  546bc55335992b86c8000043         3526      90           4.1        False   \n",
       "4  546d900426714cd2dd00002e         3506     120         100.0         True   \n",
       "\n",
       "   winner                                         share_text square  test_week  \n",
       "0    True  Anyone who's ever felt guilty about shopping a...    NaN     201446  \n",
       "1   False  Walmart is getting schooled by another retaile...    NaN     201446  \n",
       "2   False  Walmart may not be crapping their pants over t...    NaN     201446  \n",
       "3   False  If you ever wondered, \"but what about the men?...    NaN     201446  \n",
       "4   False  If you ever wondered, \"but what about the men?...    NaN     201446  "
      ]
     },
     "execution_count": 2,
     "metadata": {},
     "output_type": "execute_result"
    }
   ],
   "source": [
    "df= pd.read_csv('./datasets/upworthy-archive-exploratory-packages-03.12.2020.csv')\n",
    "print(df.dtypes)\n",
    "df.head()"
   ]
  },
  {
   "cell_type": "code",
   "execution_count": 3,
   "metadata": {},
   "outputs": [
    {
     "data": {
      "text/plain": [
       "(22666, 2)"
      ]
     },
     "execution_count": 3,
     "metadata": {},
     "output_type": "execute_result"
    }
   ],
   "source": [
    "df= df[['headline', 'clicks']]\n",
    "df.head()\n",
    "df.shape"
   ]
  },
  {
   "cell_type": "code",
   "execution_count": 4,
   "metadata": {},
   "outputs": [
    {
     "data": {
      "text/plain": [
       "(12387, 2)"
      ]
     },
     "execution_count": 4,
     "metadata": {},
     "output_type": "execute_result"
    }
   ],
   "source": [
    "df = (df.groupby('headline')['clicks'].mean()).to_frame(name = \"clicks_mean\").reset_index()\n",
    "df.head()\n",
    "df.shape\n",
    "# Usar agg para obtener la moda de la columna winner"
   ]
  },
  {
   "cell_type": "markdown",
   "metadata": {},
   "source": [
    "## Prepare Data"
   ]
  },
  {
   "cell_type": "code",
   "execution_count": 5,
   "metadata": {},
   "outputs": [],
   "source": [
    "from nltk.tokenize import word_tokenize"
   ]
  },
  {
   "cell_type": "markdown",
   "metadata": {},
   "source": [
    "### Split into Words"
   ]
  },
  {
   "cell_type": "code",
   "execution_count": 6,
   "metadata": {},
   "outputs": [],
   "source": [
    "df['headline_words'] = df['headline'].apply(lambda word: word_tokenize(word))"
   ]
  },
  {
   "cell_type": "code",
   "execution_count": 7,
   "metadata": {},
   "outputs": [
    {
     "data": {
      "text/plain": [
       "['A',\n",
       " 'Bunch',\n",
       " 'Of',\n",
       " 'Middle',\n",
       " 'Schoolers',\n",
       " 'Actually',\n",
       " 'Raised',\n",
       " 'Their',\n",
       " 'Hands',\n",
       " 'And',\n",
       " 'Volunteered',\n",
       " 'For',\n",
       " 'Something',\n",
       " '?',\n",
       " '!']"
      ]
     },
     "execution_count": 7,
     "metadata": {},
     "output_type": "execute_result"
    }
   ],
   "source": [
    "df['headline_words'][0]"
   ]
  },
  {
   "cell_type": "markdown",
   "metadata": {},
   "source": [
    "### Filter Out Punctuation"
   ]
  },
  {
   "cell_type": "code",
   "execution_count": 8,
   "metadata": {},
   "outputs": [],
   "source": [
    "df['headline_punctuation'] = df['headline_words'].apply(lambda tokens: [word for word in tokens if word.isalpha()])"
   ]
  },
  {
   "cell_type": "code",
   "execution_count": 9,
   "metadata": {},
   "outputs": [
    {
     "data": {
      "text/plain": [
       "['A',\n",
       " 'Bunch',\n",
       " 'Of',\n",
       " 'Middle',\n",
       " 'Schoolers',\n",
       " 'Actually',\n",
       " 'Raised',\n",
       " 'Their',\n",
       " 'Hands',\n",
       " 'And',\n",
       " 'Volunteered',\n",
       " 'For',\n",
       " 'Something']"
      ]
     },
     "execution_count": 9,
     "metadata": {},
     "output_type": "execute_result"
    }
   ],
   "source": [
    "df['headline_punctuation'][0]"
   ]
  },
  {
   "cell_type": "markdown",
   "metadata": {},
   "source": [
    "### Filter out Stop Words"
   ]
  },
  {
   "cell_type": "markdown",
   "metadata": {},
   "source": [
    "#### Make words lower"
   ]
  },
  {
   "cell_type": "code",
   "execution_count": 10,
   "metadata": {},
   "outputs": [],
   "source": [
    "df['headline_lower'] = df['headline_punctuation'].apply(lambda tokens: [w.lower() for w in tokens])"
   ]
  },
  {
   "cell_type": "code",
   "execution_count": 11,
   "metadata": {},
   "outputs": [
    {
     "data": {
      "text/plain": [
       "['a',\n",
       " 'bunch',\n",
       " 'of',\n",
       " 'middle',\n",
       " 'schoolers',\n",
       " 'actually',\n",
       " 'raised',\n",
       " 'their',\n",
       " 'hands',\n",
       " 'and',\n",
       " 'volunteered',\n",
       " 'for',\n",
       " 'something']"
      ]
     },
     "execution_count": 11,
     "metadata": {},
     "output_type": "execute_result"
    }
   ],
   "source": [
    "df['headline_lower'][0]"
   ]
  },
  {
   "cell_type": "markdown",
   "metadata": {},
   "source": [
    "#### Filter out stop words"
   ]
  },
  {
   "cell_type": "code",
   "execution_count": 12,
   "metadata": {},
   "outputs": [],
   "source": [
    "from nltk.corpus import stopwords\n",
    "stop_words = stopwords.words('english')\n"
   ]
  },
  {
   "cell_type": "code",
   "execution_count": 13,
   "metadata": {},
   "outputs": [],
   "source": [
    "df['headline_stopwords'] = df['headline_lower'].apply(lambda tokens: [w for w in tokens if not w in stop_words])"
   ]
  },
  {
   "cell_type": "code",
   "execution_count": 14,
   "metadata": {},
   "outputs": [
    {
     "data": {
      "text/plain": [
       "['bunch',\n",
       " 'middle',\n",
       " 'schoolers',\n",
       " 'actually',\n",
       " 'raised',\n",
       " 'hands',\n",
       " 'volunteered',\n",
       " 'something']"
      ]
     },
     "execution_count": 14,
     "metadata": {},
     "output_type": "execute_result"
    }
   ],
   "source": [
    "df['headline_stopwords'][0]"
   ]
  },
  {
   "cell_type": "markdown",
   "metadata": {},
   "source": [
    "### Stem words"
   ]
  },
  {
   "cell_type": "code",
   "execution_count": 15,
   "metadata": {},
   "outputs": [],
   "source": [
    "from nltk.stem.porter import PorterStemmer\n",
    "porter = PorterStemmer()"
   ]
  },
  {
   "cell_type": "code",
   "execution_count": 16,
   "metadata": {},
   "outputs": [],
   "source": [
    "df['headline_stemmed'] = df['headline_stopwords'].apply(lambda tokens: [porter.stem(word) for word in tokens])"
   ]
  },
  {
   "cell_type": "code",
   "execution_count": 17,
   "metadata": {},
   "outputs": [
    {
     "data": {
      "text/plain": [
       "['bunch', 'middl', 'schooler', 'actual', 'rais', 'hand', 'volunt', 'someth']"
      ]
     },
     "execution_count": 17,
     "metadata": {},
     "output_type": "execute_result"
    }
   ],
   "source": [
    "df['headline_stemmed'][0]"
   ]
  },
  {
   "cell_type": "markdown",
   "metadata": {},
   "source": [
    "### Max lenght of tokens"
   ]
  },
  {
   "cell_type": "code",
   "execution_count": 18,
   "metadata": {},
   "outputs": [
    {
     "data": {
      "text/plain": [
       "14"
      ]
     },
     "execution_count": 18,
     "metadata": {},
     "output_type": "execute_result"
    }
   ],
   "source": [
    "df['headline_len'] = df['headline_stemmed'].apply(lambda tokens: len(tokens))\n",
    "df['headline_len'].max()"
   ]
  },
  {
   "cell_type": "markdown",
   "metadata": {},
   "source": [
    "### Train Model"
   ]
  },
  {
   "cell_type": "code",
   "execution_count": 19,
   "metadata": {},
   "outputs": [],
   "source": [
    "# The maximum number of words to be used. (most frequent)\n",
    "MAX_NB_WORDS = 10000\n",
    "# Max number of words in each complaint.\n",
    "MAX_SEQUENCE_LENGTH = 30\n",
    "# This is fixed.\n",
    "EMBEDDING_DIM = 50"
   ]
  },
  {
   "cell_type": "code",
   "execution_count": 20,
   "metadata": {},
   "outputs": [
    {
     "name": "stderr",
     "output_type": "stream",
     "text": [
      "Using TensorFlow backend.\n"
     ]
    }
   ],
   "source": [
    "from keras.preprocessing.text import Tokenizer\n",
    "from keras.preprocessing.sequence import pad_sequences\n",
    "from keras.models import Sequential\n",
    "from keras.layers import Dense, Embedding, LSTM, Dropout\n",
    "from keras.callbacks import EarlyStopping\n",
    "from keras.optimizers import Adam\n",
    "from keras.metrics import RootMeanSquaredError\n",
    "from sklearn.model_selection import train_test_split\n",
    "from sklearn.preprocessing import StandardScaler\n",
    "import matplotlib.pyplot as plt"
   ]
  },
  {
   "cell_type": "code",
   "execution_count": 21,
   "metadata": {},
   "outputs": [
    {
     "name": "stdout",
     "output_type": "stream",
     "text": [
      "Found 9505 unique tokens.\n"
     ]
    }
   ],
   "source": [
    "tokenizer = Tokenizer(num_words=MAX_NB_WORDS)\n",
    "tokenizer.fit_on_texts(df['headline_stopwords'].values)\n",
    "word_index = tokenizer.word_index\n",
    "print('Found %s unique tokens.' % len(word_index))"
   ]
  },
  {
   "cell_type": "code",
   "execution_count": 32,
   "metadata": {},
   "outputs": [
    {
     "data": {
      "text/plain": [
       "array([[ 170,  534, 4254, ...,    0,    0,    0],\n",
       "       [3473,  336,  396, ...,    0,    0,    0],\n",
       "       [1094, 2504,   11, ...,    0,    0,    0],\n",
       "       ...,\n",
       "       [   4,  683,  459, ...,    0,    0,    0],\n",
       "       [  27,  482,  113, ...,    0,    0,    0],\n",
       "       [   9, 4081,   48, ...,    0,    0,    0]])"
      ]
     },
     "execution_count": 32,
     "metadata": {},
     "output_type": "execute_result"
    }
   ],
   "source": [
    "X = tokenizer.texts_to_sequences(df['headline_stopwords'].values)\n",
    "X = pad_sequences(X, maxlen=MAX_SEQUENCE_LENGTH, padding='post', truncating='post')"
   ]
  },
  {
   "cell_type": "code",
   "execution_count": 23,
   "metadata": {},
   "outputs": [],
   "source": [
    "y = df['clicks_mean'].values"
   ]
  },
  {
   "cell_type": "code",
   "execution_count": 24,
   "metadata": {},
   "outputs": [
    {
     "data": {
      "text/plain": [
       "(8670, 30)"
      ]
     },
     "execution_count": 24,
     "metadata": {},
     "output_type": "execute_result"
    }
   ],
   "source": [
    "X_train, X_test, Y_train, Y_test = train_test_split(X, y, test_size=0.3, random_state=42)\n",
    "X_train.shape"
   ]
  },
  {
   "cell_type": "code",
   "execution_count": 33,
   "metadata": {},
   "outputs": [],
   "source": [
    "model = Sequential()\n",
    "model.add(Embedding(MAX_NB_WORDS, EMBEDDING_DIM, input_length=X.shape[1]))\n",
    "model.add(Dropout(0.2))\n",
    "model.add(LSTM(100, dropout=0.2, recurrent_dropout=0.2))\n",
    "# Last layer\n",
    "model.add(Dense(1, activation='linear'))\n",
    "\n",
    "opt = Adam(learning_rate=0.06)\n",
    "\n",
    "model.compile(loss='mean_squared_error', optimizer=opt, metrics=[RootMeanSquaredError()])"
   ]
  },
  {
   "cell_type": "code",
   "execution_count": 34,
   "metadata": {},
   "outputs": [
    {
     "name": "stdout",
     "output_type": "stream",
     "text": [
      "Model: \"sequential_3\"\n",
      "_________________________________________________________________\n",
      "Layer (type)                 Output Shape              Param #   \n",
      "=================================================================\n",
      "embedding_3 (Embedding)      (None, 30, 50)            500000    \n",
      "_________________________________________________________________\n",
      "dropout_1 (Dropout)          (None, 30, 50)            0         \n",
      "_________________________________________________________________\n",
      "lstm_3 (LSTM)                (None, 100)               60400     \n",
      "_________________________________________________________________\n",
      "dense_3 (Dense)              (None, 1)                 101       \n",
      "=================================================================\n",
      "Total params: 560,501\n",
      "Trainable params: 560,501\n",
      "Non-trainable params: 0\n",
      "_________________________________________________________________\n"
     ]
    }
   ],
   "source": [
    "model.summary()"
   ]
  },
  {
   "cell_type": "code",
   "execution_count": 35,
   "metadata": {},
   "outputs": [],
   "source": [
    "epochs = 10\n",
    "batch_size = 64"
   ]
  },
  {
   "cell_type": "code",
   "execution_count": 36,
   "metadata": {},
   "outputs": [
    {
     "name": "stderr",
     "output_type": "stream",
     "text": [
      "C:\\Users\\jonat\\anaconda3\\envs\\ml\\lib\\site-packages\\tensorflow_core\\python\\framework\\indexed_slices.py:433: UserWarning: Converting sparse IndexedSlices to a dense Tensor of unknown shape. This may consume a large amount of memory.\n",
      "  \"Converting sparse IndexedSlices to a dense Tensor of unknown shape. \"\n"
     ]
    },
    {
     "name": "stdout",
     "output_type": "stream",
     "text": [
      "Train on 7803 samples, validate on 867 samples\n",
      "Epoch 1/10\n",
      "7803/7803 [==============================] - 9s 1ms/step - loss: 2366.1331 - root_mean_squared_error: 48.6429 - val_loss: 2287.1886 - val_root_mean_squared_error: 47.8246\n",
      "Epoch 2/10\n",
      "7803/7803 [==============================] - 8s 1ms/step - loss: 2243.9872 - root_mean_squared_error: 47.3707 - val_loss: 2293.8430 - val_root_mean_squared_error: 47.8941\n",
      "Epoch 3/10\n",
      "7803/7803 [==============================] - 8s 1ms/step - loss: 2242.1299 - root_mean_squared_error: 47.3511 - val_loss: 2283.2935 - val_root_mean_squared_error: 47.7838\n",
      "Epoch 4/10\n",
      "7803/7803 [==============================] - 8s 1ms/step - loss: 2241.9158 - root_mean_squared_error: 47.3489 - val_loss: 2283.2708 - val_root_mean_squared_error: 47.7836\n",
      "Epoch 5/10\n",
      "7803/7803 [==============================] - 9s 1ms/step - loss: 2244.3163 - root_mean_squared_error: 47.3742 - val_loss: 2282.3973 - val_root_mean_squared_error: 47.7744\n",
      "Epoch 6/10\n",
      "7803/7803 [==============================] - 9s 1ms/step - loss: 2241.6118 - root_mean_squared_error: 47.3457 - val_loss: 2298.7891 - val_root_mean_squared_error: 47.9457\n",
      "Epoch 7/10\n",
      "7803/7803 [==============================] - 8s 1ms/step - loss: 2240.9365 - root_mean_squared_error: 47.3385 - val_loss: 2284.1722 - val_root_mean_squared_error: 47.7930\n",
      "Epoch 8/10\n",
      "7803/7803 [==============================] - 8s 1ms/step - loss: 2252.1098 - root_mean_squared_error: 47.4564 - val_loss: 2282.3078 - val_root_mean_squared_error: 47.7735\n",
      "Epoch 9/10\n",
      "7803/7803 [==============================] - 8s 1ms/step - loss: 2242.4525 - root_mean_squared_error: 47.3545 - val_loss: 2282.9820 - val_root_mean_squared_error: 47.7806\n",
      "Epoch 10/10\n",
      "7803/7803 [==============================] - 8s 1ms/step - loss: 2241.1801 - root_mean_squared_error: 47.3411 - val_loss: 2282.5655 - val_root_mean_squared_error: 47.7762\n"
     ]
    }
   ],
   "source": [
    "history = model.fit(X_train, Y_train, epochs=epochs, batch_size=batch_size, validation_split=0.1, callbacks=[EarlyStopping(monitor='val_loss', patience=5, min_delta=0.0001)])"
   ]
  },
  {
   "cell_type": "code",
   "execution_count": 30,
   "metadata": {},
   "outputs": [
    {
     "name": "stdout",
     "output_type": "stream",
     "text": [
      "3717/3717 [==============================] - 1s 341us/step\n",
      "Test set\n",
      "  Loss: 1910.599\n",
      "  Root mean squared error: 43.710\n"
     ]
    }
   ],
   "source": [
    "accr = model.evaluate(X_test,Y_test)\n",
    "print('Test set\\n  Loss: {:0.3f}\\n  Root mean squared error: {:0.3f}'.format(accr[0], accr[1]))"
   ]
  },
  {
   "cell_type": "code",
   "execution_count": 31,
   "metadata": {},
   "outputs": [
    {
     "data": {
      "image/png": "[encoded data removed]",
      "text/plain": [
       "<Figure size 432x288 with 1 Axes>"
      ]
     },
     "metadata": {
      "needs_background": "light"
     },
     "output_type": "display_data"
    }
   ],
   "source": [
    "plt.title('Loss')\n",
    "plt.plot(history.history['loss'], label='train')\n",
    "plt.plot(history.history['val_loss'], label='test')\n",
    "plt.legend()\n",
    "plt.show();"
   ]
  },
  {
   "cell_type": "code",
   "execution_count": null,
   "metadata": {},
   "outputs": [],
   "source": []
  }
 ],
 "metadata": {
  "kernelspec": {
   "display_name": "Python 3",
   "language": "python",
   "name": "python3"
  },
  "language_info": {
   "codemirror_mode": {
    "name": "ipython",
    "version": 3
   },
   "file_extension": ".py",
   "mimetype": "text/x-python",
   "name": "python",
   "nbconvert_exporter": "python",
   "pygments_lexer": "ipython3",
   "version": "3.6.12"
  }
 },
 "nbformat": 4,
 "nbformat_minor": 4
}
