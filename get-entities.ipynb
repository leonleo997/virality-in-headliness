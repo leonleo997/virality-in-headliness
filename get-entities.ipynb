{
 "cells": [
  {
   "cell_type": "code",
   "execution_count": 32,
   "metadata": {},
   "outputs": [],
   "source": [
    "import nltk\n",
    "from nltk import ne_chunk, pos_tag, word_tokenize\n",
    "import pandas as pd\n",
    "from nltk.tree import Tree\n",
    "import spacy"
   ]
  },
  {
   "cell_type": "code",
   "execution_count": 33,
   "metadata": {},
   "outputs": [],
   "source": [
    "nlp = spacy.load(\"en_core_web_sm\")"
   ]
  },
  {
   "cell_type": "code",
   "execution_count": 34,
   "metadata": {},
   "outputs": [
    {
     "data": {
      "text/html": [
       "<div>\n",
       "<style scoped>\n",
       "    .dataframe tbody tr th:only-of-type {\n",
       "        vertical-align: middle;\n",
       "    }\n",
       "\n",
       "    .dataframe tbody tr th {\n",
       "        vertical-align: top;\n",
       "    }\n",
       "\n",
       "    .dataframe thead th {\n",
       "        text-align: right;\n",
       "    }\n",
       "</style>\n",
       "<table border=\"1\" class=\"dataframe\">\n",
       "  <thead>\n",
       "    <tr style=\"text-align: right;\">\n",
       "      <th></th>\n",
       "      <th>headline</th>\n",
       "    </tr>\n",
       "  </thead>\n",
       "  <tbody>\n",
       "    <tr>\n",
       "      <th>0</th>\n",
       "      <td>called walmart worst nightmare really hope com...</td>\n",
       "    </tr>\n",
       "    <tr>\n",
       "      <th>1</th>\n",
       "      <td>called walmart worst nightmare really hope com...</td>\n",
       "    </tr>\n",
       "    <tr>\n",
       "      <th>2</th>\n",
       "      <td>called walmart worst nightmare really hope com...</td>\n",
       "    </tr>\n",
       "    <tr>\n",
       "      <th>3</th>\n",
       "      <td>sexism men sounds like</td>\n",
       "    </tr>\n",
       "    <tr>\n",
       "      <th>4</th>\n",
       "      <td>sexism men sounds like</td>\n",
       "    </tr>\n",
       "  </tbody>\n",
       "</table>\n",
       "</div>"
      ],
      "text/plain": [
       "                                            headline\n",
       "0  called walmart worst nightmare really hope com...\n",
       "1  called walmart worst nightmare really hope com...\n",
       "2  called walmart worst nightmare really hope com...\n",
       "3                             sexism men sounds like\n",
       "4                             sexism men sounds like"
      ]
     },
     "execution_count": 34,
     "metadata": {},
     "output_type": "execute_result"
    }
   ],
   "source": [
    "df = pd.read_csv(\"datasets/headlines_clean.csv\")\n",
    "df.head()"
   ]
  },
  {
   "cell_type": "code",
   "execution_count": 35,
   "metadata": {},
   "outputs": [],
   "source": [
    "df['tokens'] = df.apply(lambda row: nlp(row['headline']), axis=1)"
   ]
  },
  {
   "cell_type": "code",
   "execution_count": 36,
   "metadata": {},
   "outputs": [
    {
     "data": {
      "text/html": [
       "<div>\n",
       "<style scoped>\n",
       "    .dataframe tbody tr th:only-of-type {\n",
       "        vertical-align: middle;\n",
       "    }\n",
       "\n",
       "    .dataframe tbody tr th {\n",
       "        vertical-align: top;\n",
       "    }\n",
       "\n",
       "    .dataframe thead th {\n",
       "        text-align: right;\n",
       "    }\n",
       "</style>\n",
       "<table border=\"1\" class=\"dataframe\">\n",
       "  <thead>\n",
       "    <tr style=\"text-align: right;\">\n",
       "      <th></th>\n",
       "      <th>headline</th>\n",
       "      <th>tokens</th>\n",
       "    </tr>\n",
       "  </thead>\n",
       "  <tbody>\n",
       "    <tr>\n",
       "      <th>0</th>\n",
       "      <td>called walmart worst nightmare really hope com...</td>\n",
       "      <td>(called, walmart, worst, nightmare, really, ho...</td>\n",
       "    </tr>\n",
       "    <tr>\n",
       "      <th>1</th>\n",
       "      <td>called walmart worst nightmare really hope com...</td>\n",
       "      <td>(called, walmart, worst, nightmare, really, ho...</td>\n",
       "    </tr>\n",
       "    <tr>\n",
       "      <th>2</th>\n",
       "      <td>called walmart worst nightmare really hope com...</td>\n",
       "      <td>(called, walmart, worst, nightmare, really, ho...</td>\n",
       "    </tr>\n",
       "    <tr>\n",
       "      <th>3</th>\n",
       "      <td>sexism men sounds like</td>\n",
       "      <td>(sexism, men, sounds, like)</td>\n",
       "    </tr>\n",
       "    <tr>\n",
       "      <th>4</th>\n",
       "      <td>sexism men sounds like</td>\n",
       "      <td>(sexism, men, sounds, like)</td>\n",
       "    </tr>\n",
       "  </tbody>\n",
       "</table>\n",
       "</div>"
      ],
      "text/plain": [
       "                                            headline  \\\n",
       "0  called walmart worst nightmare really hope com...   \n",
       "1  called walmart worst nightmare really hope com...   \n",
       "2  called walmart worst nightmare really hope com...   \n",
       "3                             sexism men sounds like   \n",
       "4                             sexism men sounds like   \n",
       "\n",
       "                                              tokens  \n",
       "0  (called, walmart, worst, nightmare, really, ho...  \n",
       "1  (called, walmart, worst, nightmare, really, ho...  \n",
       "2  (called, walmart, worst, nightmare, really, ho...  \n",
       "3                        (sexism, men, sounds, like)  \n",
       "4                        (sexism, men, sounds, like)  "
      ]
     },
     "execution_count": 36,
     "metadata": {},
     "output_type": "execute_result"
    }
   ],
   "source": [
    "df.head()"
   ]
  },
  {
   "cell_type": "code",
   "execution_count": 39,
   "metadata": {},
   "outputs": [],
   "source": [
    "entities = []\n",
    "\n",
    "for index, row in df.iterrows():\n",
    "    sub_toks = [tok for tok in row[\"tokens\"] if (tok.dep_ == \"nsubj\") ]\n",
    "    entities.append(sub_toks)"
   ]
  },
  {
   "cell_type": "code",
   "execution_count": 40,
   "metadata": {},
   "outputs": [],
   "source": [
    "df[\"entities\"] = entities"
   ]
  },
  {
   "cell_type": "code",
   "execution_count": 41,
   "metadata": {},
   "outputs": [
    {
     "data": {
      "text/html": [
       "<div>\n",
       "<style scoped>\n",
       "    .dataframe tbody tr th:only-of-type {\n",
       "        vertical-align: middle;\n",
       "    }\n",
       "\n",
       "    .dataframe tbody tr th {\n",
       "        vertical-align: top;\n",
       "    }\n",
       "\n",
       "    .dataframe thead th {\n",
       "        text-align: right;\n",
       "    }\n",
       "</style>\n",
       "<table border=\"1\" class=\"dataframe\">\n",
       "  <thead>\n",
       "    <tr style=\"text-align: right;\">\n",
       "      <th></th>\n",
       "      <th>headline</th>\n",
       "      <th>tokens</th>\n",
       "      <th>entities</th>\n",
       "    </tr>\n",
       "  </thead>\n",
       "  <tbody>\n",
       "    <tr>\n",
       "      <th>0</th>\n",
       "      <td>called walmart worst nightmare really hope com...</td>\n",
       "      <td>(called, walmart, worst, nightmare, really, ho...</td>\n",
       "      <td>[]</td>\n",
       "    </tr>\n",
       "    <tr>\n",
       "      <th>1</th>\n",
       "      <td>called walmart worst nightmare really hope com...</td>\n",
       "      <td>(called, walmart, worst, nightmare, really, ho...</td>\n",
       "      <td>[]</td>\n",
       "    </tr>\n",
       "    <tr>\n",
       "      <th>2</th>\n",
       "      <td>called walmart worst nightmare really hope com...</td>\n",
       "      <td>(called, walmart, worst, nightmare, really, ho...</td>\n",
       "      <td>[]</td>\n",
       "    </tr>\n",
       "    <tr>\n",
       "      <th>3</th>\n",
       "      <td>sexism men sounds like</td>\n",
       "      <td>(sexism, men, sounds, like)</td>\n",
       "      <td>[men]</td>\n",
       "    </tr>\n",
       "    <tr>\n",
       "      <th>4</th>\n",
       "      <td>sexism men sounds like</td>\n",
       "      <td>(sexism, men, sounds, like)</td>\n",
       "      <td>[men]</td>\n",
       "    </tr>\n",
       "  </tbody>\n",
       "</table>\n",
       "</div>"
      ],
      "text/plain": [
       "                                            headline  \\\n",
       "0  called walmart worst nightmare really hope com...   \n",
       "1  called walmart worst nightmare really hope com...   \n",
       "2  called walmart worst nightmare really hope com...   \n",
       "3                             sexism men sounds like   \n",
       "4                             sexism men sounds like   \n",
       "\n",
       "                                              tokens entities  \n",
       "0  (called, walmart, worst, nightmare, really, ho...       []  \n",
       "1  (called, walmart, worst, nightmare, really, ho...       []  \n",
       "2  (called, walmart, worst, nightmare, really, ho...       []  \n",
       "3                        (sexism, men, sounds, like)    [men]  \n",
       "4                        (sexism, men, sounds, like)    [men]  "
      ]
     },
     "execution_count": 41,
     "metadata": {},
     "output_type": "execute_result"
    }
   ],
   "source": [
    "df.head()"
   ]
  },
  {
   "cell_type": "code",
   "execution_count": null,
   "metadata": {},
   "outputs": [],
   "source": [
    "df[20:25]"
   ]
  }
 ],
 "metadata": {
  "kernelspec": {
   "display_name": "Python 3",
   "language": "python",
   "name": "python3"
  },
  "language_info": {
   "codemirror_mode": {
    "name": "ipython",
    "version": 3
   },
   "file_extension": ".py",
   "mimetype": "text/x-python",
   "name": "python",
   "nbconvert_exporter": "python",
   "pygments_lexer": "ipython3",
   "version": "3.6.12"
  }
 },
 "nbformat": 4,
 "nbformat_minor": 4
}
