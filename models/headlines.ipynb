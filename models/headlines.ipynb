{
 "cells": [
  {
   "cell_type": "code",
   "execution_count": 8,
   "metadata": {},
   "outputs": [
    {
     "name": "stdout",
     "output_type": "stream",
     "text": [
      "tensorflow==2.4.1\n",
      "tensorboard==2.4.1\n",
      "matplotlib==3.1.1\n",
      "numpy==1.19.5\n",
      "pandas==0.25.1\n"
     ]
    }
   ],
   "source": [
    "import tensorflow as tf\n",
    "import matplotlib.pyplot as plt\n",
    "import tensorboard\n",
    "import matplotlib\n",
    "import numpy as np\n",
    "import pandas as pd"
   ]
  },
  {
   "cell_type": "markdown",
   "metadata": {
    "id": "2z2Id0NLZcFN"
   },
   "source": [
    "### Transfomer encoder"
   ]
  },
  {
   "cell_type": "markdown",
   "metadata": {
    "id": "aTOrHOsWJ3EN"
   },
   "source": [
    "#### Positional encoding"
   ]
  },
  {
   "cell_type": "code",
   "execution_count": 6,
   "metadata": {
    "id": "wbmHhkpTJ2Hi"
   },
   "outputs": [],
   "source": [
    "def get_angles(pos, i, d_model):\n",
    "  angle_rates = 1 / np.power(10000, (2 * (i//2)) / np.float32(d_model))\n",
    "  return pos * angle_rates\n",
    "\n",
    "def positional_encoding(position, d_model):\n",
    "  angle_rads = get_angles(np.arange(position)[:, np.newaxis],\n",
    "                          np.arange(d_model)[np.newaxis, :],\n",
    "                          d_model)\n",
    "\n",
    "  # apply sin to even indices in the array; 2i\n",
    "  angle_rads[:, 0::2] = np.sin(angle_rads[:, 0::2])\n",
    "\n",
    "  # apply cos to odd indices in the array; 2i+1\n",
    "  angle_rads[:, 1::2] = np.cos(angle_rads[:, 1::2])\n",
    "\n",
    "  pos_encoding = angle_rads[np.newaxis, ...]\n",
    "\n",
    "  return tf.cast(pos_encoding, dtype=tf.float32)"
   ]
  },
  {
   "cell_type": "code",
   "execution_count": 7,
   "metadata": {
    "colab": {
     "base_uri": "https://localhost:8080/",
     "height": 303
    },
    "id": "3phFAuWGTEjR",
    "outputId": "b0da9a3a-1516-495b-b6ef-150a17296962"
   },
   "outputs": [
    {
     "name": "stdout",
     "output_type": "stream",
     "text": [
      "(1, 10000, 100)\n"
     ]
    },
    {
     "data": {
      "image/png": "[encoded data removed]",
      "text/plain": [
       "<Figure size 432x288 with 2 Axes>"
      ]
     },
     "metadata": {
      "tags": []
     },
     "output_type": "display_data"
    }
   ],
   "source": [
    "pos = 10000\n",
    "d_model = 100\n",
    "pos_encoding = positional_encoding(pos, d_model)\n",
    "print (pos_encoding.shape)\n",
    "\n",
    "plt.pcolormesh(pos_encoding[0][:50,:], cmap='RdBu')\n",
    "plt.xlabel('Depth')\n",
    "plt.xlim((0, d_model))\n",
    "plt.ylabel('Position')\n",
    "plt.colorbar()\n",
    "plt.show()"
   ]
  },
  {
   "cell_type": "markdown",
   "metadata": {
    "id": "HKYZbRWVfAb_"
   },
   "source": [
    "#### Masks"
   ]
  },
  {
   "cell_type": "code",
   "execution_count": 8,
   "metadata": {
    "colab": {
     "base_uri": "https://localhost:8080/",
     "height": 411
    },
    "id": "NcJhJQbee_YV",
    "outputId": "64abb945-c775-4164-cc89-f933f34c693e"
   },
   "outputs": [
    {
     "name": "stdout",
     "output_type": "stream",
     "text": [
      "padding_mask: [[[[0. 0. 1. 1. 1.]]]\n",
      "\n",
      "\n",
      " [[[0. 0. 0. 1. 1.]]]\n",
      "\n",
      "\n",
      " [[[0. 0. 0. 0. 0.]]]]\n"
     ]
    },
    {
     "data": {
      "text/plain": [
       "<matplotlib.image.AxesImage at 0x7f05bea0af60>"
      ]
     },
     "execution_count": 8,
     "metadata": {
      "tags": []
     },
     "output_type": "execute_result"
    },
    {
     "data": {
      "image/png": "[encoded data removed]",
      "text/plain": [
       "<Figure size 288x288 with 1 Axes>"
      ]
     },
     "metadata": {
      "tags": []
     },
     "output_type": "display_data"
    }
   ],
   "source": [
    "def create_padding_mask(seq, padding_token=0):\n",
    "  \"\"\"\n",
    "  Creates a mask with ones where padding_token is found and zeros elsewhere.\n",
    "  This mask is added to the attention logits in order to prevent the \n",
    "  model to focus in padding tokens.\n",
    "\n",
    "  Args:\n",
    "    seq: tensor with shape (batch_size, maxlen)\n",
    "    padding_token: token for padding, Default: 0.\n",
    "  Returns:\n",
    "    mask of shape (batch_size, 1, 1, maxlen)\n",
    "  \"\"\"\n",
    "  seq = tf.cast(tf.math.equal(seq, padding_token), tf.float32)\n",
    "  # add extra dimensions to add the padding\n",
    "  # to the attention logits and match dimensions.\n",
    "  mask = seq[:, tf.newaxis, tf.newaxis, :]\n",
    "  return mask # (batch_size, 1, 1, maxlen)\n",
    "\n",
    "tokens = tf.constant([[743, 623, 0, 0, 0], \n",
    "                 [132, 243, 453, 0, 0], \n",
    "                 [365, 400, 290, 265, 509]])\n",
    "att_logits = tf.random.uniform((3,1,5,5)) # Simulate att logits (batch_size, num_heads, maxlen, maxlen)\n",
    "padding_mask = create_padding_mask(tokens)\n",
    "print(f\"padding_mask: {padding_mask}\")\n",
    "masked_att_logits = att_logits + (padding_mask * -1e9)\n",
    "att_weights =  tf.nn.softmax(masked_att_logits, axis=-1)\n",
    "plt.matshow(att_weights[1,0,:,:].numpy())"
   ]
  },
  {
   "cell_type": "code",
   "execution_count": 9,
   "metadata": {
    "colab": {
     "base_uri": "https://localhost:8080/",
     "height": 700
    },
    "id": "pdko23chns7g",
    "outputId": "34f487d1-aa8c-4da1-f342-378ef08e769b"
   },
   "outputs": [
    {
     "name": "stdout",
     "output_type": "stream",
     "text": [
      "look_ahead_mask: [[0. 1. 1. 1. 1.]\n",
      " [0. 0. 1. 1. 1.]\n",
      " [0. 0. 0. 1. 1.]\n",
      " [0. 0. 0. 0. 1.]\n",
      " [0. 0. 0. 0. 0.]]\n",
      "combined_masks:[[[[0. 1. 1. 1. 1.]\n",
      "   [0. 0. 1. 1. 1.]\n",
      "   [0. 0. 1. 1. 1.]\n",
      "   [0. 0. 1. 1. 1.]\n",
      "   [0. 0. 1. 1. 1.]]]\n",
      "\n",
      "\n",
      " [[[0. 1. 1. 1. 1.]\n",
      "   [0. 0. 1. 1. 1.]\n",
      "   [0. 0. 0. 1. 1.]\n",
      "   [0. 0. 0. 1. 1.]\n",
      "   [0. 0. 0. 1. 1.]]]\n",
      "\n",
      "\n",
      " [[[0. 1. 1. 1. 1.]\n",
      "   [0. 0. 1. 1. 1.]\n",
      "   [0. 0. 0. 1. 1.]\n",
      "   [0. 0. 0. 0. 1.]\n",
      "   [0. 0. 0. 0. 0.]]]]\n"
     ]
    },
    {
     "data": {
      "text/plain": [
       "<matplotlib.image.AxesImage at 0x7f05be980208>"
      ]
     },
     "execution_count": 9,
     "metadata": {
      "tags": []
     },
     "output_type": "execute_result"
    },
    {
     "data": {
      "image/png": "[encoded data removed]",
      "text/plain": [
       "<Figure size 288x288 with 1 Axes>"
      ]
     },
     "metadata": {
      "tags": []
     },
     "output_type": "display_data"
    }
   ],
   "source": [
    "def create_look_ahead_mask(maxlen, match_dims=False):\n",
    "  \"\"\"\n",
    "  Creates mask to causal attention. \n",
    "  This mask will prevent the model to focus on future tokens.\n",
    "\n",
    "  Args:\n",
    "    maxlen: maxlen of the sequence\n",
    "  Returns:\n",
    "    Tensor of shape (maxlen, maxlen) with its upper filled with \n",
    "    ones and zeros elsewhere  \n",
    "  \"\"\"\n",
    "  mask = 1 - tf.linalg.band_part(tf.ones((maxlen, maxlen)), -1, 0)\n",
    "  if match_dims:\n",
    "    mask = mask[tf.newaxis, tf.newaxis, :, :]\n",
    "  return mask\n",
    "\n",
    "padding_mask = create_padding_mask(tokens)\n",
    "look_ahead_mask = create_look_ahead_mask(tokens.shape[1])\n",
    "combined_masks = tf.maximum(padding_mask, look_ahead_mask)\n",
    "print(f\"look_ahead_mask: {look_ahead_mask}\")\n",
    "print(f\"combined_masks:{combined_masks}\")\n",
    "masked_att_logits = att_logits + (combined_masks * -1e9)\n",
    "att_weights =  tf.nn.softmax(masked_att_logits, axis=-1)\n",
    "\n",
    "plt.matshow(att_weights[1,0,:,:].numpy()) # Visualize attention weights in first head for secod input "
   ]
  },
  {
   "cell_type": "markdown",
   "metadata": {
    "id": "YupCUfsSUqjj"
   },
   "source": [
    "#### MultiHeadAttention"
   ]
  },
  {
   "cell_type": "code",
   "execution_count": 10,
   "metadata": {
    "id": "Pd96kwQQSpPb"
   },
   "outputs": [],
   "source": [
    "from tensorflow.keras.layers import Dense, LayerNormalization, Dropout\n",
    "\n",
    "class MultiHeadAttention(tf.keras.layers.Layer):\n",
    "    def __init__(self, d_model, num_heads=8):\n",
    "        super(MultiHeadAttention, self).__init__()\n",
    "        self.d_model = d_model\n",
    "        self.num_heads = num_heads\n",
    "        if d_model % num_heads != 0:\n",
    "            raise ValueError(\n",
    "                f\"embedding dimension = {d_model} should be divisible by number of heads = {num_heads}\"\n",
    "            )\n",
    "        self.projection_dim = d_model // num_heads\n",
    "\n",
    "        self.query_dense = Dense(d_model)\n",
    "        self.key_dense = Dense(d_model)\n",
    "        self.value_dense = Dense(d_model)\n",
    "\n",
    "        self.combine_heads = Dense(d_model)\n",
    "\n",
    "    def scaled_dot_product_attention(self, Q, K, V, mask=None):\n",
    "      \"\"\"\n",
    "      Arguments:\n",
    "        query: Query shape == (batch_size, num_heads, seq_len, projection_dim)\n",
    "        key: Key shape == (batch_size, num_heads, seq_len, projection_dim)\n",
    "        value: Value shape == (batch_size, num_heads, seq_len, projection_dim)\n",
    "\n",
    "        Returns:\n",
    "          output:            (batch_size, num_heads, seq_len, projection_dim) \n",
    "          attention_weights: (batch_size, num_heads, seq_len, seq_len)\n",
    "      \"\"\"\n",
    "      dk = tf.cast(tf.shape(K)[-1], tf.float32)\n",
    "      # (batch_size, num_heads, seq_len, seq_len)\n",
    "      att_logits = tf.matmul(Q, K, transpose_b=True)\n",
    "      scaled_att_logits = att_logits / tf.sqrt(dk) \n",
    "      if mask is not None:\n",
    "        scaled_att_logits += (mask * -1e9)\n",
    "      \n",
    "      attention_weights = tf.nn.softmax(scaled_att_logits, axis=-1)\n",
    "      # (batch_size, num_heads, seq_len, projection_dim)\n",
    "      ooutput = attention_weights @ V\n",
    "      return ooutput, attention_weights\n",
    "\n",
    "    def separate_heads(self, x, batch_size):\n",
    "        x = tf.reshape(x, (batch_size, -1, self.num_heads, self.projection_dim))\n",
    "        return tf.transpose(x, perm=[0, 2, 1, 3])\n",
    "\n",
    "    def call(self, Q, K, V, mask=None):\n",
    "        \"\"\" \n",
    "          output, # (batch_size, seq_len, d_model) \n",
    "          weights # (batch_size, num_heads, seq_len, seq_len)\n",
    "        \"\"\"\n",
    "        # x.shape = [batch_size, seq_len, embedding_dim]\n",
    "        batch_size = tf.shape(Q)[0]\n",
    "        query = self.query_dense(Q)  # (batch_size, seq_len, d_model)\n",
    "        key = self.key_dense(K)  # (batch_size, seq_len, d_model)\n",
    "        value = self.value_dense(V)  # (batch_size, seq_len, d_model)\n",
    "        query = self.separate_heads(\n",
    "            query, batch_size\n",
    "        )  # (batch_size, num_heads, seq_len, projection_dim)\n",
    "        key = self.separate_heads(\n",
    "            key, batch_size\n",
    "        )  # (batch_size, num_heads, seq_len, projection_dim)\n",
    "        value = self.separate_heads(\n",
    "            value, batch_size\n",
    "        )  # (batch_size, num_heads, seq_len, projection_dim)\n",
    "        attention, weights = self.scaled_dot_product_attention(\n",
    "            query, key, value, mask)\n",
    "        attention = tf.transpose(\n",
    "            attention, perm=[0, 2, 1, 3]\n",
    "        )  # (batch_size, seq_len, num_heads, projection_dim)\n",
    "        concat_attention = tf.reshape(\n",
    "            attention, (batch_size, -1, self.d_model)\n",
    "        )  # (batch_size, seq_len, d_model)\n",
    "        output = self.combine_heads(\n",
    "            concat_attention\n",
    "        )  # (batch_size, num_heads, seq_len, seq_len)\n",
    "        return output, weights "
   ]
  },
  {
   "cell_type": "code",
   "execution_count": 12,
   "metadata": {
    "colab": {
     "base_uri": "https://localhost:8080/",
     "height": 309
    },
    "id": "4nO96j9vnMt6",
    "outputId": "b740ba48-68fb-4c51-d30a-b72d6c4946a2"
   },
   "outputs": [
    {
     "name": "stdout",
     "output_type": "stream",
     "text": [
      "(2, 1, 1, 5)\n"
     ]
    },
    {
     "data": {
      "text/plain": [
       "(TensorShape([2, 5, 100]), TensorShape([2, 5, 5, 5]))"
      ]
     },
     "execution_count": 12,
     "metadata": {
      "tags": []
     },
     "output_type": "execute_result"
    },
    {
     "data": {
      "image/png": "[encoded data removed]",
      "text/plain": [
       "<Figure size 288x288 with 1 Axes>"
      ]
     },
     "metadata": {
      "tags": []
     },
     "output_type": "display_data"
    }
   ],
   "source": [
    "mha = MultiHeadAttention(d_model=100, num_heads=5)\n",
    "\n",
    "tokens = tf.constant([[1, 2, 0, 0, 0], \n",
    "                      [3, 4, 5, 0, 0]])\n",
    "x = tf.random.uniform((tokens.shape[0], tokens.shape[1], 100))  # (batch_size, maxlen, d_model)\n",
    "\n",
    "padding_mask = create_padding_mask(tokens)\n",
    "look_ahead_mask = create_look_ahead_mask(tokens.shape[1])\n",
    "combined_mask = tf.maximum(padding_mask, look_ahead_mask)\n",
    "\n",
    "print(padding_mask.shape)\n",
    "out, att_weights = mha(x,x,x, mask=combined_mask)\n",
    "plt.matshow(att_weights[1,0,:,:]) # Visualize causal self-attention in the first head for the second sample \n",
    "out.shape, att_weights.shape"
   ]
  },
  {
   "cell_type": "markdown",
   "metadata": {
    "id": "V-0D7AKJWdZP"
   },
   "source": [
    "#### Transformer Encoder Layer"
   ]
  },
  {
   "cell_type": "code",
   "execution_count": 14,
   "metadata": {
    "id": "pOTiKfFeTD6n"
   },
   "outputs": [],
   "source": [
    "class TransformerEncoderLayer(tf.keras.layers.Layer):\n",
    "    def __init__(self, d_model, num_heads, ff_dim, rate=0.2):\n",
    "        super(TransformerEncoderLayer, self).__init__()\n",
    "        self.mha = MultiHeadAttention(d_model, num_heads)\n",
    "        self.ffn = tf.keras.Sequential([\n",
    "                      Dense(ff_dim, activation=\"relu\"), \n",
    "                      Dense(d_model),\n",
    "            ]\n",
    "        )\n",
    "        self.layernorm1 = LayerNormalization(epsilon=1e-6)\n",
    "        self.layernorm2 = LayerNormalization(epsilon=1e-6)\n",
    "        self.dropout1 = Dropout(rate)\n",
    "        self.dropout2 = Dropout(rate)\n",
    "\n",
    "    def call(self, inputs, training, mask=None):\n",
    "        \"\"\"\n",
    "        output # (batch_size, seq_len, d_model) \n",
    "        weights # (batch_size, num_heads, seq_len, seq_len)\n",
    "        \"\"\"\n",
    "        attn_output, weights = self.mha(inputs, inputs, inputs, mask)\n",
    "        attn_output = self.dropout1(attn_output, training=training)\n",
    "        out1 = self.layernorm1(inputs + attn_output)\n",
    "        ffn_output = self.ffn(out1)\n",
    "        ffn_output = self.dropout2(ffn_output, training=training)\n",
    "        output = self.layernorm2(out1 + ffn_output)\n",
    "        return output, weights"
   ]
  },
  {
   "cell_type": "code",
   "execution_count": 15,
   "metadata": {
    "colab": {
     "base_uri": "https://localhost:8080/"
    },
    "id": "SqBxs-S8rsqW",
    "outputId": "dd14aaeb-b228-4e5a-9463-4bede43a1f84"
   },
   "outputs": [
    {
     "data": {
      "text/plain": [
       "(TensorShape([1, 50, 100]), TensorShape([1, 5, 50, 50]))"
      ]
     },
     "execution_count": 15,
     "metadata": {
      "tags": []
     },
     "output_type": "execute_result"
    }
   ],
   "source": [
    "transformer = TransformerEncoderLayer(100,5,64)\n",
    "inputs = tf.random.uniform((1, 50, 100))  # (batch_size, encoder_sequence, d_model)\n",
    "out, weights = transformer(inputs)\n",
    "out.shape, weights.shape"
   ]
  },
  {
   "cell_type": "code",
   "execution_count": 16,
   "metadata": {
    "id": "NBcQ8KwLTLem"
   },
   "outputs": [],
   "source": [
    "class PositionalEmbedding(tf.keras.layers.Layer):\n",
    "  def __init__(self, token_embedding):\n",
    "    \"\"\" \n",
    "    Layer for converting tokens ids into embeddings with positional information encoded \n",
    "    and create padding and look ahead masks (optional) \n",
    "    \n",
    "    Args:\n",
    "      token_embedding(tf.keras.layers.Embedding): Embedding layer\n",
    "    Returns:\n",
    "      Embeddings with   \n",
    "    \"\"\"\n",
    "    super(PositionalEmbedding, self).__init__()\n",
    "    self.vocab_size = token_embedding.input_dim\n",
    "    self.d_model = token_embedding.output_dim \n",
    "    self.maxlen = token_embedding.input_length\n",
    "    self.token_emb = token_embedding\n",
    "    self.pos_encoding = positional_encoding(self.vocab_size, self.d_model)\n",
    "\n",
    "  def call(self, input_tokens, training, causal_attention=False):\n",
    "    \"\"\" \n",
    "    Computes embeddings for input tokens ids and apply them positional encoding\n",
    "    Args:\n",
    "      x (tensor): tensor with shape (batch_size, maxlen)\n",
    "      causal_attention(bool): If True, padding mask is combined with look ahead mask. \n",
    "                              Otherwise only padding mask is created. \n",
    "\n",
    "    Returns:\n",
    "      x: Positional encoded embeddings \n",
    "      mask: Padding mask for Multi Head Attention (with lookahead, optionally)\n",
    "    \"\"\"\n",
    "    maxlen = tf.shape(input_tokens)[-1]\n",
    "    mask = create_padding_mask(input_tokens)\n",
    "    if causal_attention:\n",
    "      look_ahead_mask = create_look_ahead_mask(maxlen)\n",
    "      mask = tf.maximum(mask, look_ahead_mask)\n",
    "\n",
    "    x = self.token_emb(input_tokens, training=training)  # (batch_size, maxlen, d_model)\n",
    "    x *= tf.math.sqrt(tf.cast(self.d_model, tf.float32))\n",
    "    x += self.pos_encoding[:, :maxlen, :]\n",
    "    return x, mask"
   ]
  },
  {
   "cell_type": "code",
   "execution_count": 17,
   "metadata": {
    "id": "q_YXoJd88l_c"
   },
   "outputs": [],
   "source": [
    "class TransformerEncoder(tf.keras.models.Model):\n",
    "  def __init__(self, num_layers, d_model, num_heads, dff, embedding_layer, \n",
    "               causal_attention=False, dropout_rate=0.2):\n",
    "    super(TransformerEncoder, self).__init__()\n",
    "    self.d_model = d_model\n",
    "    self.num_layers = num_layers\n",
    "    self.embedding_layer = embedding_layer\n",
    "    self.encoder_layers = [TransformerEncoderLayer(d_model, num_heads, dff, rate=dropout_rate) \n",
    "                           for _ in range(num_layers)]\n",
    "    assert d_model == self.embedding_layer.output_dim, f\"d_model and embedding output dim must be equal, {d_model} != {self.embedding_layer.output_dim}\"\n",
    "    self.positional_embedding = PositionalEmbedding(self.embedding_layer)\n",
    "    self.causal_attention = causal_attention\n",
    "    self.dropout = Dropout(dropout_rate)\n",
    "    \n",
    "  def call(self, input_tokens, training):\n",
    "    \"\"\"\n",
    "    Args:\n",
    "      input_tokens: tensor with shape (batch_size, maxlen) of tokens\n",
    "    Returns:\n",
    "      x: (batch_size, input_seq_len, d_model)\n",
    "      layers_att_weights: dictionary with layer names as keys and \n",
    "                          attention weights of shape (batch_size, num_heads, maxlen, maxlen) \n",
    "                          for each layer as values \n",
    "    \"\"\"\n",
    "    embeddings, mask = self.positional_embedding(input_tokens, training=training, \n",
    "                                                 causal_attention=self.causal_attention)\n",
    "    \n",
    "    x = self.dropout(embeddings, training=training)\n",
    "    \n",
    "    layers_att_weights = {}\n",
    "\n",
    "    for i in range(self.num_layers):\n",
    "      x, weights = self.encoder_layers[i](x, training, mask)\n",
    "      layers_att_weights[f\"encoder_layer_{i+1}\"] = weights\n",
    "    return x, layers_att_weights"
   ]
  }
 ],
 "metadata": {
  "colab": {
   "collapsed_sections": [
    "war9HLe-DsYw",
    "HmsgEepqW1RN",
    "CUQG8-KRbDe1",
    "QG30DPOqadA6",
    "s2dXl__TLv4q",
    "xLfNv_GAl5a_",
    "lncyflW8OJ1D",
    "-OimyeeIOTBS",
    "LjOmcUq6yhSn",
    "zUPeQvlCg4Ps",
    "5iA79mNFuhC5"
   ],
   "name": "headlines.ipynb",
   "provenance": []
  },
  "kernelspec": {
   "display_name": "Python 3",
   "language": "python",
   "name": "python3"
  },
  "language_info": {
   "codemirror_mode": {
    "name": "ipython",
    "version": 3
   },
   "file_extension": ".py",
   "mimetype": "text/x-python",
   "name": "python",
   "nbconvert_exporter": "python",
   "pygments_lexer": "ipython3",
   "version": "3.7.4"
  }
 },
 "nbformat": 4,
 "nbformat_minor": 4
}
