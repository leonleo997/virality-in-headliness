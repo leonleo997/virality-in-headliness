{
 "cells": [
  {
   "cell_type": "markdown",
   "id": "cooked-spencer",
   "metadata": {},
   "source": [
    "## Hyper parameter tuning of embedding model"
   ]
  },
  {
   "cell_type": "code",
   "execution_count": 1,
   "id": "german-saudi",
   "metadata": {},
   "outputs": [],
   "source": [
    "# # Uncomment this cell if running in colab\n",
    "# !git clone github.com/leonleo997/virality-in-headliness\n",
    "# !pip install virality-in-headliness"
   ]
  },
  {
   "cell_type": "code",
   "execution_count": 3,
   "id": "micro-sleeping",
   "metadata": {},
   "outputs": [
    {
     "name": "stdout",
     "output_type": "stream",
     "text": [
      "Processing /home/sebastian/Data_Science_Projects/virality-in-headliness\n",
      "Building wheels for collected packages: virality-headlines\n",
      "  Building wheel for virality-headlines (setup.py) ... \u001b[?25ldone\n",
      "\u001b[?25h  Created wheel for virality-headlines: filename=virality_headlines-0.0.1-py3-none-any.whl size=2753 sha256=7eaf6f080497db582b6119b8d848133108ebc8fdb37bd194f55cb1c2500e5130\n",
      "  Stored in directory: /home/sebastian/.cache/pip/wheels/e2/24/0b/340bc509f1ec151908912726a4a40570bb7dd853685bf12092\n",
      "Successfully built virality-headlines\n",
      "Installing collected packages: virality-headlines\n",
      "  Attempting uninstall: virality-headlines\n",
      "    Found existing installation: virality-headlines 0.0.1\n",
      "    Uninstalling virality-headlines-0.0.1:\n",
      "      Successfully uninstalled virality-headlines-0.0.1\n",
      "Successfully installed virality-headlines-0.0.1\n"
     ]
    }
   ],
   "source": [
    "# If running directly from this notebook\n",
    "!pip install ../"
   ]
  },
  {
   "cell_type": "code",
   "execution_count": null,
   "id": "opened-mediterranean",
   "metadata": {},
   "outputs": [],
   "source": []
  }
 ],
 "metadata": {
  "kernelspec": {
   "display_name": "Python 3",
   "language": "python",
   "name": "python3"
  },
  "language_info": {
   "codemirror_mode": {
    "name": "ipython",
    "version": 3
   },
   "file_extension": ".py",
   "mimetype": "text/x-python",
   "name": "python",
   "nbconvert_exporter": "python",
   "pygments_lexer": "ipython3",
   "version": "3.7.0"
  }
 },
 "nbformat": 4,
 "nbformat_minor": 5
}
