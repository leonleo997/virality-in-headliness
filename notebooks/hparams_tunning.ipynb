{
 "cells": [
  {
   "cell_type": "markdown",
   "id": "massive-payment",
   "metadata": {},
   "source": [
    "## Hyper parameter tuning of embedding model"
   ]
  },
  {
   "cell_type": "code",
   "execution_count": 8,
   "id": "global-cream",
   "metadata": {},
   "outputs": [],
   "source": [
    "# # Uncomment this cell if running in colab\n",
    "# !git clone github.com/leonleo997/virality-in-headliness\n",
    "# !pip install virality-in-headliness/headlines"
   ]
  },
  {
   "cell_type": "code",
   "execution_count": 9,
   "id": "precise-investor",
   "metadata": {},
   "outputs": [
    {
     "name": "stdout",
     "output_type": "stream",
     "text": [
      "Processing /home/sebastian/Data_Science_Projects/virality-in-headliness\n",
      "Building wheels for collected packages: headlines-project\n",
      "  Building wheel for headlines-project (setup.py) ... \u001b[?25ldone\n",
      "\u001b[?25h  Created wheel for headlines-project: filename=headlines_project-0.0.1-py3-none-any.whl size=12210 sha256=20f180074e6f935f99209e674642c6c855e3d6af96b737277408f886c8117ff3\n",
      "  Stored in directory: /home/sebastian/.cache/pip/wheels/e2/24/0b/340bc509f1ec151908912726a4a40570bb7dd853685bf12092\n",
      "Successfully built headlines-project\n",
      "Installing collected packages: headlines-project\n",
      "  Attempting uninstall: headlines-project\n",
      "    Found existing installation: headlines-project 0.0.1\n",
      "    Uninstalling headlines-project-0.0.1:\n",
      "      Successfully uninstalled headlines-project-0.0.1\n",
      "Successfully installed headlines-project-0.0.1\n"
     ]
    }
   ],
   "source": [
    "# If running directly from this notebook\n",
    "!pip install ../"
   ]
  },
  {
   "cell_type": "code",
   "execution_count": 10,
   "id": "latter-frame",
   "metadata": {},
   "outputs": [],
   "source": [
    "from headlines_project.models import TransformerEncoder\n",
    "from headlines_project.data import create_data_pipeline\n",
    "from headlines_project.utils import plot_attention_weights"
   ]
  },
  {
   "cell_type": "code",
   "execution_count": null,
   "id": "unique-franchise",
   "metadata": {},
   "outputs": [],
   "source": []
  }
 ],
 "metadata": {
  "kernelspec": {
   "display_name": "Python 3",
   "language": "python",
   "name": "python3"
  },
  "language_info": {
   "codemirror_mode": {
    "name": "ipython",
    "version": 3
   },
   "file_extension": ".py",
   "mimetype": "text/x-python",
   "name": "python",
   "nbconvert_exporter": "python",
   "pygments_lexer": "ipython3",
   "version": "3.7.0"
  }
 },
 "nbformat": 4,
 "nbformat_minor": 5
}
